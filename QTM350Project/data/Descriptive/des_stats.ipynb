{
 "cells": [
  {
   "cell_type": "code",
   "execution_count": 3,
   "metadata": {},
   "outputs": [
    {
     "name": "stdout",
     "output_type": "stream",
     "text": [
      "Requirement already satisfied: tabulate in /Users/amberlin/Desktop/EC_QTM 151/.conda/lib/python3.11/site-packages (0.9.0)\n"
     ]
    }
   ],
   "source": [
    "! pip install tabulate"
   ]
  },
  {
   "cell_type": "code",
   "execution_count": 7,
   "metadata": {},
   "outputs": [
    {
     "name": "stdout",
     "output_type": "stream",
     "text": [
      "╒══════════════════════════════╤══════════╕\n",
      "│ Statistic                    │    Value │\n",
      "╞══════════════════════════════╪══════════╡\n",
      "│ Total Rows                   │ 11536    │\n",
      "├──────────────────────────────┼──────────┤\n",
      "│ Year Range                   │  1960    │\n",
      "├──────────────────────────────┼──────────┤\n",
      "│ Average Life Expectancy      │    64.93 │\n",
      "├──────────────────────────────┼──────────┤\n",
      "│ Average U5 Mortality         │    73.06 │\n",
      "├──────────────────────────────┼──────────┤\n",
      "│ Average Adolescent Fertility │    73.58 │\n",
      "├──────────────────────────────┼──────────┤\n",
      "│ Number of Countries          │   195    │\n",
      "├──────────────────────────────┼──────────┤\n",
      "│ Average Years per Country    │    59.16 │\n",
      "╘══════════════════════════════╧══════════╛\n"
     ]
    }
   ],
   "source": [
    "import pandas as pd\n",
    "import sqlite3\n",
    "from tabulate import tabulate  \n",
    "\n",
    "# Load dataset\n",
    "df = pd.read_csv(\"population_panel_clean.csv\")\n",
    "\n",
    "# Rename columns\n",
    "df = df.rename(columns={\n",
    "    \"lifeexp\": \"LifeExpectancy\",\n",
    "    \"u5mort\": \"U5Mortality\",\n",
    "    \"adofert\": \"AdoleFertility\"\n",
    "})\n",
    "\n",
    "# Create SQLite in-memory DB\n",
    "conn = sqlite3.connect(\":memory:\")\n",
    "df.to_sql(\"population\", conn, index=False, if_exists=\"replace\")\n",
    "\n",
    "# SQL queries for descriptive statistics\n",
    "queries = {\n",
    "    \"Total Rows\": \"SELECT COUNT(*) AS total_rows FROM population;\",\n",
    "    \"Year Range\": \"SELECT MIN(year) AS start_year, MAX(year) AS end_year FROM population;\",\n",
    "    \"Average Life Expectancy\": \"SELECT ROUND(AVG(LifeExpectancy), 2) AS avg_lifeexp FROM population;\",\n",
    "    \"Average U5 Mortality\": \"SELECT ROUND(AVG(U5Mortality), 2) AS avg_u5mort FROM population;\",\n",
    "    \"Average Adolescent Fertility\": \"SELECT ROUND(AVG(AdoleFertility), 2) AS avg_fertility FROM population;\",\n",
    "    \"Number of Countries\": \"SELECT COUNT(DISTINCT country_name) AS total_countries FROM population;\",\n",
    "    \"Average Years per Country\": \"\"\"\n",
    "        SELECT ROUND(AVG(entry_count), 2) AS avg_years_per_country\n",
    "        FROM (\n",
    "            SELECT country_name, COUNT(*) AS entry_count\n",
    "            FROM population\n",
    "            GROUP BY country_name\n",
    "        );\n",
    "    \"\"\"\n",
    "}\n",
    "\n",
    "# Execute queries and collect results\n",
    "summary_table = []\n",
    "for label, query in queries.items():\n",
    "    result = pd.read_sql(query, conn)\n",
    "    value = result.iloc[0, 0]\n",
    "    summary_table.append([label, value])\n",
    "\n",
    "# Print results in table format\n",
    "print(tabulate(summary_table, headers=[\"Statistic\", \"Value\"], tablefmt=\"fancy_grid\"))\n",
    "\n",
    "# Close the DB connection\n",
    "conn.close()\n",
    "\n"
   ]
  }
 ],
 "metadata": {
  "kernelspec": {
   "display_name": "Python 3",
   "language": "python",
   "name": "python3"
  },
  "language_info": {
   "codemirror_mode": {
    "name": "ipython",
    "version": 3
   },
   "file_extension": ".py",
   "mimetype": "text/x-python",
   "name": "python",
   "nbconvert_exporter": "python",
   "pygments_lexer": "ipython3",
   "version": "3.11.11"
  }
 },
 "nbformat": 4,
 "nbformat_minor": 2
}
